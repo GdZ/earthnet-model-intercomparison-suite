{
 "cells": [
  {
   "cell_type": "markdown",
   "metadata": {},
   "source": [
    "# EarthNet2021 Model Intercomparson Suite Cookbook\n",
    "\n",
    "Run.py is the main entry point. You should be able to launch any task from it! But first let's...\n",
    "\n",
    "## Download EarthNet2021 Dataset"
   ]
  },
  {
   "cell_type": "code",
   "execution_count": null,
   "metadata": {},
   "outputs": [],
   "source": [
    "import earthnet as en\n",
    "\n",
    "en.Downloader.get('data/datasets/release', 'all') #[\"train\",\"iid\",\"ood\",\"extreme\",\"seasonal\"]"
   ]
  },
  {
   "cell_type": "markdown",
   "metadata": {},
   "source": [
    "## Test Baseline"
   ]
  },
  {
   "cell_type": "code",
   "execution_count": null,
   "metadata": {},
   "outputs": [],
   "source": [
    "!python run.py --model_name Baseline --split_name iid_test_split/context --submodel mean"
   ]
  },
  {
   "cell_type": "markdown",
   "metadata": {},
   "source": [
    "## Train\n",
    "The EN Intercomparison suite comes with a Tensorflow baseline based on SAVP that we call Arcon-STF (Autorgressive Conditional Spatio-Temporal Forecaster).\n",
    "You can train and test any model using run.py. Checkout 'configs/tf_template/' to learn how the standalone model is passed arguments from run.py."
   ]
  },
  {
   "cell_type": "code",
   "execution_count": null,
   "metadata": {},
   "outputs": [],
   "source": [
    "# Firt we generate tfrecords samples for the train set using the included util\n",
    "!source activate ENtf115py36\n",
    "!python utils/npz_to_tfecords.py --inpath data/datasets/release/train/ --outpath data/tf_dataset/train"
   ]
  },
  {
   "cell_type": "code",
   "execution_count": null,
   "metadata": {},
   "outputs": [],
   "source": [
    "# Running train Arcon trough run.py\n",
    "\n",
    "!python run.py --model_name tf_template --dataroot data/tf_dataset/ --split_name train --experiment_name 02_Arcon_earthnet --mode train --submodel arcon_earthnet --dataset earthnet --gpu_ids 3 --experiment_settings 02-testing-earthnet"
   ]
  },
  {
   "cell_type": "code",
   "execution_count": null,
   "metadata": {},
   "outputs": [],
   "source": [
    "#To continue training a paused train run\n",
    "\n",
    "!python run.py --model_name Arcon --dataroot data/tf_dataset/ --split_name train --experiment_name 02_Arcon_earthnet --mode train --submodel arcon_earthnet --dataset earthnet --gpu_ids 3 --resume"
   ]
  },
  {
   "cell_type": "markdown",
   "metadata": {},
   "source": [
    "## Test"
   ]
  },
  {
   "cell_type": "code",
   "execution_count": null,
   "metadata": {},
   "outputs": [],
   "source": [
    "#Predicting Arcon \n",
    "\n",
    "!python run.py --model_name Arcon --mode test --gpu_ids 3 --experiment_name 02_Arcon_earthnet --submodel arcon_earthnet --dataset earthnet --split_name iid_test --dataroot data/tf_dataset/ --num_stochastic_samples 1 --batch_size 1"
   ]
  },
  {
   "cell_type": "code",
   "execution_count": null,
   "metadata": {},
   "outputs": [],
   "source": [
    "#Predicting Baseline model linear regression\n",
    "\n",
    "!python run.py --model_name Baseline --split_name iid_test --submodel linear"
   ]
  },
  {
   "cell_type": "markdown",
   "metadata": {},
   "source": [
    "## Evaluate"
   ]
  },
  {
   "cell_type": "code",
   "execution_count": null,
   "metadata": {},
   "outputs": [],
   "source": [
    "#Evaluates the output of the model tested\n",
    "!python run.py --mode evaluate --model_name Baseline --experiment_name mean\n",
    "\n",
    "#Many model / experiments\n",
    "!python run.py --mode evaluate --model_name Baseline Baseline Arcon Arcon --experiment_name mean linear 02_Arcon_earthnet 02_Arcon_earthnet_210000"
   ]
  },
  {
   "cell_type": "code",
   "execution_count": null,
   "metadata": {},
   "outputs": [],
   "source": [
    "#plotting the figures to display evaluation results\n",
    "!python run.py --mode plot"
   ]
  },
  {
   "cell_type": "markdown",
   "metadata": {},
   "source": [
    "## Plot\n",
    "utils/plot_sample.py"
   ]
  },
  {
   "cell_type": "code",
   "execution_count": null,
   "metadata": {},
   "outputs": [],
   "source": [
    "# Plotting a single frame from NPZ with predictions\n",
    "\n",
    "!python utils/plot_sample.py --pred --frame 150 --image"
   ]
  },
  {
   "cell_type": "code",
   "execution_count": null,
   "metadata": {},
   "outputs": [],
   "source": [
    "# Plotting a .mp4 video\n",
    "\n",
    "!python utils/plot_sample.py --pred --frame 150 --video --predpath data/outputs/Arcon/02_Arcon_earthnet/iid_test/ \n",
    "\n",
    "#Plotting predictions whose groundtruth is split into context and target files, doesn't work yet.\n",
    "!python utils/plot_sample.py --pred --frame 150 --video --predpath data/outputs/Baseline/mean/ood_test_split/context/ --tilename 29TNE --filename context_29TNE_2017-06-20_2017-11-16_3129_3257_5049_5177_24_104_39_119.npz --datapath data/datasets/ood_test_split/context/"
   ]
  },
  {
   "cell_type": "code",
   "execution_count": null,
   "metadata": {},
   "outputs": [],
   "source": []
  }
 ],
 "metadata": {
  "kernelspec": {
   "display_name": "Python 3",
   "language": "python",
   "name": "python3"
  },
  "language_info": {
   "codemirror_mode": {
    "name": "ipython",
    "version": 3
   },
   "file_extension": ".py",
   "mimetype": "text/x-python",
   "name": "python",
   "nbconvert_exporter": "python",
   "pygments_lexer": "ipython3",
   "version": "3.7.7"
  }
 },
 "nbformat": 4,
 "nbformat_minor": 4
}
