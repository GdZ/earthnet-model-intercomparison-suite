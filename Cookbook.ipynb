{
 "cells": [
  {
   "cell_type": "markdown",
   "metadata": {},
   "source": [
    "# EarthNet2021 Model Intercomparson Suite Cookbook\n",
    "\n",
    "Run.py is the main entry point. You should be able to launch any task from it! But first let's...\n",
    "\n",
    "## Download EarthNet2021 Dataset"
   ]
  },
  {
   "cell_type": "code",
   "execution_count": null,
   "metadata": {},
   "outputs": [],
   "source": [
    "import earthnet as en\n",
    "\n",
    "en.Downloader.get('data/datasets/release', 'all') #[\"train\",\"iid\",\"ood\",\"extreme\",\"seasonal\"]"
   ]
  },
  {
   "cell_type": "markdown",
   "metadata": {},
   "source": [
    "## Test Baseline"
   ]
  },
  {
   "cell_type": "markdown",
   "metadata": {},
   "source": [
    "## Train\n",
    "The EN Intercomparison suite comes with a Tensorflow baseline based on SAVP that we call Arcon-STF (Autorgressive Conditional Spatio-Temporal Forecaster).\n",
    "You can train and test any model using run.py. Checkout 'configs/tf_template/' to learn how the standalone model is passed arguments from run.py."
   ]
  },
  {
   "cell_type": "code",
   "execution_count": null,
   "metadata": {},
   "outputs": [],
   "source": [
    "# Firt we generate tfrecords samples for the train set using the included util\n",
    "!python run.py --model_name Arcon --dataroot data/tf_dataset/ --split_name train --experiment_name 02_Arcon_earthnet --mode train --submodel arcon_earthnet --dataset earthnet --gpu_ids 3 --experiment_settings 02-testing-earthnet"
   ]
  },
  {
   "cell_type": "code",
   "execution_count": 1,
   "metadata": {},
   "outputs": [
    {
     "name": "stdout",
     "output_type": "stream",
     "text": [
      "------------ Options -------------\n",
      "batch_size: 1\n",
      "check_expr_dir: data/temp/checkpoint/Arcon/02_Arcon_earthnet\n",
      "checkpoint: data/temp/checkpoint/\n",
      "context_length: 10\n",
      "continue_train: False\n",
      "data_expr_dir: data/tf_dataset/train\n",
      "dataroot: data/tf_dataset/\n",
      "dataset: earthnet\n",
      "eval_expr_dir: data/results/Arcon/02_Arcon_earthnet/train\n",
      "evalpath: data/results/\n",
      "experiment_name: ['02_Arcon_earthnet']\n",
      "experiment_settings: 02-testing-earthnet\n",
      "gpu_ids: [3]\n",
      "keep_input: False\n",
      "load_size: 128\n",
      "mode: train\n",
      "model_name: ['Arcon']\n",
      "num_stochastic_samples: 1\n",
      "out_expr_dir: data/outputs/Arcon/02_Arcon_earthnet/train\n",
      "outpath: data/outputs/\n",
      "prediction_length: 20\n",
      "resume: False\n",
      "set_expr_dir: experiments/Arcon/02-testing-earthnet\n",
      "split_name: train\n",
      "submodel: arcon_earthnet\n",
      "-------------- End ----------------\n",
      "No fixed arguments provided on configs/Arcon.yml\n",
      "------------ Run command -------------\n",
      "export CUDA_VISIBLE_DEVICES=3; /opt/conda/envs/ArconSTF36/bin/python  src/models/Arcon/train.py --input_dir data/tf_dataset/train --checkpoint data/temp/checkpoint/Arcon/02_Arcon_earthnet --model arcon_earthnet --model_hparams_dict experiments/Arcon/02-testing-earthnet --dataset earthnet --dataset_hparams_dict experiments/Arcon/02-testing-earthnet\n",
      "---------------- End -----------------\n",
      "/bin/dash: 1: /opt/conda/envs/ArconSTF36/bin/python: not found\n"
     ]
    }
   ],
   "source": [
    "# Running train Arcon trough run.py\n",
    "\n",
    "!python run.py --model_name tf_template --dataroot data/tf_dataset/ --split_name train --experiment_name 02_Arcon_earthnet --mode train --submodel arcon_earthnet --dataset earthnet --gpu_ids 3 --experiment_settings 02-testing-earthnet"
   ]
  },
  {
   "cell_type": "code",
   "execution_count": null,
   "metadata": {},
   "outputs": [],
   "source": [
    "#To continue training a paused train run\n",
    "\n",
    "!python run.py --model_name Arcon --dataroot data/tf_dataset/ --split_name train --experiment_name 02_Arcon_earthnet --mode train --submodel arcon_earthnet --dataset earthnet --gpu_ids 3 --resume"
   ]
  },
  {
   "cell_type": "markdown",
   "metadata": {},
   "source": [
    "## Test"
   ]
  },
  {
   "cell_type": "code",
   "execution_count": null,
   "metadata": {},
   "outputs": [],
   "source": [
    "#Predicting Arcon \n",
    "\n",
    "!python run.py --model_name Arcon --mode test --gpu_ids 3 --experiment_name 02_Arcon_earthnet --submodel arcon_earthnet --dataset earthnet --split_name iid_test --dataroot data/tf_dataset/ --num_stochastic_samples 1 --batch_size 1"
   ]
  },
  {
   "cell_type": "code",
   "execution_count": null,
   "metadata": {},
   "outputs": [],
   "source": [
    "#Predicting Baseline model linear regression\n",
    "\n",
    "!python run.py --model_name Baseline --split_name iid_test --submodel linear"
   ]
  },
  {
   "cell_type": "markdown",
   "metadata": {},
   "source": [
    "## Evaluate"
   ]
  },
  {
   "cell_type": "code",
   "execution_count": null,
   "metadata": {},
   "outputs": [],
   "source": [
    "#Evaluates the output of the model tested\n",
    "!python run.py --mode evaluate --model_name Baseline --experiment_name mean\n",
    "\n",
    "#Many model / experiments\n",
    "!python run.py --mode evaluate --model_name Baseline Baseline Arcon Arcon --experiment_name mean linear 02_Arcon_earthnet 02_Arcon_earthnet_210000"
   ]
  },
  {
   "cell_type": "code",
   "execution_count": null,
   "metadata": {},
   "outputs": [],
   "source": [
    "#plotting the figures to display evaluation results\n",
    "!python run.py --mode plot"
   ]
  },
  {
   "cell_type": "markdown",
   "metadata": {},
   "source": [
    "## Plot\n",
    "utils/plot_sample.py"
   ]
  },
  {
   "cell_type": "code",
   "execution_count": null,
   "metadata": {},
   "outputs": [],
   "source": [
    "# Plotting a single frame from NPZ with predictions\n",
    "\n",
    "!python utils/plot_sample.py --pred --frame 150 --image"
   ]
  },
  {
   "cell_type": "code",
   "execution_count": null,
   "metadata": {},
   "outputs": [],
   "source": [
    "# Plotting a .mp4 video\n",
    "\n",
    "!python utils/plot_sample.py --pred --frame 150 --video --predpath data/outputs/Arcon/02_Arcon_earthnet/iid_test/ \n",
    "\n",
    "#Plotting predictions whose groundtruth is split into context and target files, doesn't work yet.\n",
    "!python utils/plot_sample.py --pred --frame 150 --video --predpath data/outputs/Baseline/mean/ood_test_split/context/ --tilename 29TNE --filename context_29TNE_2017-06-20_2017-11-16_3129_3257_5049_5177_24_104_39_119.npz --datapath data/datasets/ood_test_split/context/"
   ]
  },
  {
   "cell_type": "code",
   "execution_count": null,
   "metadata": {},
   "outputs": [],
   "source": []
  }
 ],
 "metadata": {
  "kernelspec": {
   "display_name": "Python 3",
   "language": "python",
   "name": "python3"
  },
  "language_info": {
   "codemirror_mode": {
    "name": "ipython",
    "version": 3
   },
   "file_extension": ".py",
   "mimetype": "text/x-python",
   "name": "python",
   "nbconvert_exporter": "python",
   "pygments_lexer": "ipython3",
   "version": "3.7.7"
  }
 },
 "nbformat": 4,
 "nbformat_minor": 4
}
